{
 "cells": [
  {
   "cell_type": "markdown",
   "metadata": {},
   "source": [
    " # House princing predictions \n",
    " ## Hichem MAIZA\n",
    " ## Part 1 : Linear Regression Vectorized Implimentation From Scratch"
   ]
  },
  {
   "cell_type": "code",
   "execution_count": 161,
   "metadata": {
    "collapsed": true
   },
   "outputs": [],
   "source": [
    "import numpy as np \n",
    "import pandas as pd \n",
    "import math \n",
    "import matplotlib.pyplot as plt \n",
    "import random \n",
    "import tensorflow as tf \n",
    "from tensorflow.python.framework import ops\n",
    "%matplotlib inline "
   ]
  },
  {
   "cell_type": "markdown",
   "metadata": {},
   "source": [
    "# Train and Test data"
   ]
  },
  {
   "cell_type": "code",
   "execution_count": 162,
   "metadata": {
    "collapsed": true
   },
   "outputs": [],
   "source": [
    "def split_data(variables, train_size = 0.7):\n",
    "    \n",
    "    tmp = math.floor(len(variables)*train_size)\n",
    "    \n",
    "    data = {\n",
    "        \n",
    "        'trainX': (variables.as_matrix().T)[0:2,:tmp],\n",
    "        'trainY': (train_variables.as_matrix().T)[2,:tmp].reshape(1,-1),\n",
    "        'testX' : (variables.as_matrix().T)[0:2,tmp:],\n",
    "        'testY' : (variables.as_matrix().T)[2,tmp:].reshape(1,-1)\n",
    "        \n",
    "    }\n",
    "    \n",
    "    return data"
   ]
  },
  {
   "cell_type": "markdown",
   "metadata": {},
   "source": [
    "# Parameters initialization"
   ]
  },
  {
   "cell_type": "code",
   "execution_count": 163,
   "metadata": {
    "collapsed": true
   },
   "outputs": [],
   "source": [
    "def init_parameters(X):\n",
    "    '''\n",
    "    A function to initialize the model variables \n",
    "    \n",
    "    Argumenrs :\n",
    "    None \n",
    "    \n",
    "    Output: \n",
    "    param -- initialized values \n",
    "    '''\n",
    "    n_x = X.shape[0]\n",
    "    W = np.random.randn(n_x, 1)\n",
    "    b = np.zeros((1,1))\n",
    "    \n",
    "    param = {\n",
    "        'W':W,\n",
    "        'b':b\n",
    "    }\n",
    "    return param"
   ]
  },
  {
   "cell_type": "markdown",
   "metadata": {},
   "source": [
    "# Forword Propagation"
   ]
  },
  {
   "cell_type": "code",
   "execution_count": 164,
   "metadata": {
    "collapsed": true
   },
   "outputs": [],
   "source": [
    "def forword_propagation(X, param):\n",
    "    '''\n",
    "    A function to compute the forword pass\n",
    "    \n",
    "    Arguments:\n",
    "    X -- matrix of train data \n",
    "    param : parameters of the model \n",
    "    \n",
    "    Outputs\n",
    "    Z -- a vector of liner values\n",
    "    '''\n",
    "    W = param['W']\n",
    "    b = param['b']\n",
    "    Z = np.dot(W.T, X) + b\n",
    "    \n",
    "    return Z"
   ]
  },
  {
   "cell_type": "markdown",
   "metadata": {},
   "source": [
    "# The backword Propagation"
   ]
  },
  {
   "cell_type": "code",
   "execution_count": 165,
   "metadata": {
    "collapsed": true
   },
   "outputs": [],
   "source": [
    "def backword_propagation(Z, Y):\n",
    "    '''\n",
    "    function that computes the cost and derivative\n",
    "    \n",
    "    Arguments: \n",
    "    Z -- Inputvector\n",
    "    Y -- Labels Vector \n",
    "    \n",
    "    Outputs:  \n",
    "    grads -- a dictionnary of gradients values \n",
    "    '''\n",
    "    m = Z.shape[1]\n",
    "    dW = 2/m *np.dot(X,(Z-Y).T)\n",
    "    db = 2/m *np.sum(Z-Y)\n",
    "    \n",
    "    grads = {\n",
    "        'dW':dW,\n",
    "        'db':db\n",
    "    }\n",
    "    \n",
    "    return grads"
   ]
  },
  {
   "cell_type": "markdown",
   "metadata": {},
   "source": [
    "# The Update parameters function"
   ]
  },
  {
   "cell_type": "code",
   "execution_count": 166,
   "metadata": {
    "collapsed": true
   },
   "outputs": [],
   "source": [
    "def update_parameters(grads,param, learning_rate = 0.001):\n",
    "    \n",
    "    '''\n",
    "    A function for updating parameters \n",
    "    \n",
    "    Arguments:\n",
    "    grads -- A dictionnary of gradient parameters values \n",
    "    param -- A dictionnary of parameters \n",
    "    learning_rate -- the step of the gradient descent \n",
    "    \n",
    "    Returns:\n",
    "    param -- updated parameters\n",
    "    '''    \n",
    "    param['W'] = param['W'] - learning_rate*grads['dW']\n",
    "    param['b'] = param['b'] - learning_rate*grads['db'] \n",
    "    \n",
    "    return param"
   ]
  },
  {
   "cell_type": "markdown",
   "metadata": {},
   "source": [
    "# The Global model Function"
   ]
  },
  {
   "cell_type": "code",
   "execution_count": 167,
   "metadata": {
    "collapsed": true
   },
   "outputs": [],
   "source": [
    "def model(X,Y,num_epoch = 500, learning_rate = 0.001):\n",
    "    '''\n",
    "    Linear regression Model : \n",
    "    \n",
    "    Arguments\n",
    "    X -- matrix of features\n",
    "    Y -- vector of labels \n",
    "    num_epoch -- the number of times the gradient descent will execute \n",
    "    learning_rate -- the step of the gradient descent \n",
    "            \n",
    "    Outputs: \n",
    "    param  -- The Updated parameters\n",
    "    '''\n",
    "    param  = init_parameters(X)\n",
    "    \n",
    "    for i in range(num_epoch):\n",
    "        \n",
    "        Z = forword_propagation(X, param)\n",
    "        grads = backword_propagation(Z, Y)\n",
    "        param = update_parameters(grads,param, learning_rate)\n",
    "    \n",
    "    return param "
   ]
  },
  {
   "cell_type": "markdown",
   "metadata": {},
   "source": [
    "# Run the Model "
   ]
  },
  {
   "cell_type": "code",
   "execution_count": 168,
   "metadata": {},
   "outputs": [],
   "source": [
    "houses_train = pd.read_csv('train.csv') \n",
    "test = pd.read_csv('test.csv') \n",
    "correlatedVlues = houses_train.corr()\n",
    "selectedValues = (correlatedVlues['SalePrice'].sort_values(ascending=False)).head(3) \n",
    "MostCorrelated = [selectedValues.index[1],selectedValues.index[2]]\n",
    "train_variables = houses_train[[MostCorrelated[0],MostCorrelated[1],'SalePrice']].astype(float)\n",
    "data = split_data(train_variables, train_size = 0.7)\n",
    "\n",
    "X = data['trainX']\n",
    "Y = data['trainY'] \n",
    "\n",
    "X_test = data['testX']\n",
    "Y_test = data['testY']\n",
    "\n",
    "x = X/np.max(X)\n",
    "y = Y/np.max(Y) \n",
    "\n",
    "x_test = X_test/np.max(X_test)\n",
    "y_test = Y_test/np.max(Y_test)"
   ]
  },
  {
   "cell_type": "code",
   "execution_count": 169,
   "metadata": {
    "scrolled": true
   },
   "outputs": [
    {
     "name": "stdout",
     "output_type": "stream",
     "text": [
      "{'b': array([[ 0.0008778]]), 'W': array([[ 1.9982101 ],\n",
      "       [ 0.73315763]])}\n"
     ]
    }
   ],
   "source": [
    "param = model(x,y,num_epoch = 500, learning_rate = 0.001)\n",
    "print(param)"
   ]
  },
  {
   "cell_type": "markdown",
   "metadata": {},
   "source": [
    "# Part 2 : Linear Regression Using tensorflow"
   ]
  },
  {
   "cell_type": "markdown",
   "metadata": {
    "collapsed": true
   },
   "source": [
    "# Define Place Holders "
   ]
  },
  {
   "cell_type": "code",
   "execution_count": 170,
   "metadata": {
    "collapsed": true
   },
   "outputs": [],
   "source": [
    "def tf_create_placeholders():\n",
    "    \n",
    "    '''\n",
    "    A function to define place holders \n",
    "    \n",
    "    Arguments : \n",
    "    --None--\n",
    "    \n",
    "    Outputs : \n",
    "    X : a palce holder for the training examples \n",
    "    Y : a place holder for the labels \n",
    "    '''\n",
    "\n",
    "    X = tf.placeholder(dtype= 'float', shape=[2,None], name='X')\n",
    "    Y = tf.placeholder(dtype= 'float', shape=[1,None], name='Y')\n",
    "    \n",
    "    return X,Y"
   ]
  },
  {
   "cell_type": "markdown",
   "metadata": {},
   "source": [
    "# Initialize Variables "
   ]
  },
  {
   "cell_type": "code",
   "execution_count": 171,
   "metadata": {},
   "outputs": [],
   "source": [
    "def tf_initialze_variable(name='Variables') : \n",
    "    \n",
    "    '''\n",
    "    A function to initiaize the model parameters\n",
    "    \n",
    "    Argument :\n",
    "    --Name-- For tensorboard purpose \n",
    "    \n",
    "    Outputs : \n",
    "    params -- A dictionnary of parameters \n",
    "    '''\n",
    "    \n",
    "    with tf.name_scope(name) : # for tensor board purpose\n",
    "        \n",
    "        tf.set_random_seed(1) \n",
    "        W = tf.get_variable('W', [1,2], initializer = tf.contrib.layers.xavier_initializer(seed = 1)) \n",
    "        b = tf.get_variable('b', [1,1], initializer = tf.zeros_initializer())\n",
    "\n",
    "\n",
    "        params = {\n",
    "            'W':W,\n",
    "            'b':b\n",
    "        }\n",
    "    return params"
   ]
  },
  {
   "cell_type": "markdown",
   "metadata": {},
   "source": [
    "# Forword Pass "
   ]
  },
  {
   "cell_type": "code",
   "execution_count": 172,
   "metadata": {
    "collapsed": true
   },
   "outputs": [],
   "source": [
    "def tf_forword_propagation(X,params) :\n",
    "    \n",
    "    '''\n",
    "    Argument \n",
    "    X --  A place holder for training example \n",
    "    params -- a dictionnary of variables\n",
    "    OUtput \n",
    "    Z -- function output value\n",
    "    '''\n",
    "    W = params['W']\n",
    "    b = params['b']\n",
    "    \n",
    "    Z  = tf.add(tf.matmul(W,X), b) \n",
    "    \n",
    "    return Z \n",
    "    "
   ]
  },
  {
   "cell_type": "markdown",
   "metadata": {},
   "source": [
    "# Define the cost function "
   ]
  },
  {
   "cell_type": "code",
   "execution_count": 173,
   "metadata": {
    "collapsed": true
   },
   "outputs": [],
   "source": [
    "def tf_compute_cost(Z,Y,name = 'cost'):\n",
    "    \n",
    "    with tf.name_scope(name):\n",
    "        cost = tf.reduce_mean((Z-Y)**2)\n",
    "    \n",
    "    return cost"
   ]
  },
  {
   "cell_type": "markdown",
   "metadata": {},
   "source": [
    "# Define mini batches "
   ]
  },
  {
   "cell_type": "code",
   "execution_count": 174,
   "metadata": {},
   "outputs": [],
   "source": [
    "def random_batches(X, Y, mini_batch_size = 64, seed = 0) :\n",
    "    \"\"\"\n",
    "    Creates a list of random minibatches from (X, Y)\n",
    "    \n",
    "    Arguments:\n",
    "    X -- input data\n",
    "    Y -- true \"label\" vector\n",
    "    mini_batch_size -- size of the mini-batches\n",
    "    \n",
    "    Returns:\n",
    "    mini_batches -- list of (mini_batch_X, mini_batch_Y)\n",
    "    \"\"\"\n",
    "    \n",
    "    np.random.seed(seed)            # to get the same result every time so i can verify my results       \n",
    "    m = X.shape[1]                  # number of training examples\n",
    "    mini_batches = []\n",
    "        \n",
    "    # Step 1: Shuffle (X, Y)\n",
    "    permutation = list(np.random.permutation(m))\n",
    "    shuffled_X = X[:, permutation]\n",
    "    shuffled_Y = Y[:, permutation].reshape((Y.shape[0],m))\n",
    "\n",
    "    # Step 2: Partition (shuffled_X, shuffled_Y). Minus the end case.d\n",
    "    num_complete_minibatches = math.floor(m/mini_batch_size) # number of mini batches of size mini_batch_size\n",
    "    for k in range(0, num_complete_minibatches):\n",
    "        mini_batch_X = shuffled_X[:,k*mini_batch_size:k*mini_batch_size + mini_batch_size ]\n",
    "        mini_batch_Y = shuffled_Y[:,k*mini_batch_size:k*mini_batch_size + mini_batch_size ]\n",
    "        mini_batch = (mini_batch_X, mini_batch_Y)\n",
    "        mini_batches.append(mini_batch)\n",
    "    \n",
    "    # Handling the end case (last mini-batch < mini_batch_size)\n",
    "    if m % mini_batch_size != 0:\n",
    "        mini_batch_X = shuffled_X[:,num_complete_minibatches*mini_batch_size:]\n",
    "        mini_batch_Y = shuffled_Y[:,num_complete_minibatches*mini_batch_size:]\n",
    "        mini_batch = (mini_batch_X, mini_batch_Y)\n",
    "        mini_batches.append(mini_batch)\n",
    "    \n",
    "    return mini_batches"
   ]
  },
  {
   "cell_type": "markdown",
   "metadata": {},
   "source": [
    "# Define Global Model "
   ]
  },
  {
   "cell_type": "code",
   "execution_count": 175,
   "metadata": {},
   "outputs": [],
   "source": [
    "def tf_model (x,y, learning_rate = 0.001, epoch = 3000, mini_batch_size = 64) :  \n",
    "    seed = 3\n",
    "    ops.reset_default_graph()                         # to be able to rerun the model without overwriting tf variables\n",
    "    # create place holders \n",
    "    X, Y = tf_create_placeholders() \n",
    "    # initialize parameters \n",
    "    params = tf_initialze_variable()\n",
    "    # Prform a forword pass\n",
    "    Z = tf_forword_propagation(X,params)\n",
    "    # define cost function \n",
    "    cost = tf_compute_cost(Z,Y,'cost') \n",
    "    # define train optimizer\n",
    "    \n",
    "    with tf.name_scope('train'):\n",
    "        train = tf.train.GradientDescentOptimizer(learning_rate=learning_rate).minimize(cost) \n",
    "        \n",
    "    #initialize all variables \n",
    "    init = tf.global_variables_initializer() \n",
    "    costs = []\n",
    "    \n",
    "    with tf.Session() as sess: \n",
    "        sess.run(init)\n",
    "        minibatches = random_batches(x, y, mini_batch_size, seed)\n",
    "        for i in range(epoch):\n",
    "            for minibatch in minibatches:\n",
    "\n",
    "                # Select a minibatch\n",
    "                (minibatch_X, minibatch_Y) = minibatch\n",
    "                _,c= sess.run([train,cost],feed_dict={X:minibatch_X , Y:minibatch_Y})    \n",
    "            \n",
    "            if i % 100 == 0:\n",
    "                print (\"Cost after epoch %i: %f\" % (i, c))\n",
    "            if i % 5 == 0:\n",
    "                costs.append(c)\n",
    "        \n",
    "        plt.plot(np.squeeze(costs))\n",
    "        plt.ylabel('cost')\n",
    "        plt.xlabel('iterations (per tens)')\n",
    "        plt.title(\"Learning rate =\" + str(learning_rate))\n",
    "        plt.show()\n",
    "        writer = tf.summary.FileWriter('./train') \n",
    "        writer.add_graph(sess.graph)\n",
    "        # lets save the parameters in a variable        \n",
    "        \n",
    "        params = sess.run(params)\n",
    "        print (\"Parameters have been trained!\")\n",
    "               \n",
    "        \n",
    "    return params"
   ]
  },
  {
   "cell_type": "code",
   "execution_count": 176,
   "metadata": {},
   "outputs": [
    {
     "name": "stdout",
     "output_type": "stream",
     "text": [
      "Cost after epoch 0: 0.494372\n",
      "Cost after epoch 100: 0.040136\n",
      "Cost after epoch 200: 0.035965\n",
      "Cost after epoch 300: 0.032326\n",
      "Cost after epoch 400: 0.029130\n",
      "Cost after epoch 500: 0.026324\n",
      "Cost after epoch 600: 0.023857\n",
      "Cost after epoch 700: 0.021689\n",
      "Cost after epoch 800: 0.019781\n",
      "Cost after epoch 900: 0.018101\n"
     ]
    },
    {
     "data": {
      "image/png": "[encoded data removed]",
      "text/plain": [
       "<matplotlib.figure.Figure at 0x4138bf0358>"
      ]
     },
     "metadata": {},
     "output_type": "display_data"
    },
    {
     "name": "stdout",
     "output_type": "stream",
     "text": [
      "Parameters have been trained!\n",
      "{'b': array([[ 0.31918105]], dtype=float32), 'W': array([[-1.25426805, -0.22813606]], dtype=float32)}\n"
     ]
    }
   ],
   "source": [
    "params = tf_model (x,y, learning_rate = 0.001, epoch = 1000, mini_batch_size = 32) \n",
    "print(params)"
   ]
  }
 ],
 "metadata": {
  "kernelspec": {
   "display_name": "Python 3",
   "language": "python",
   "name": "python3"
  },
  "language_info": {
   "codemirror_mode": {
    "name": "ipython",
    "version": 3
   },
   "file_extension": ".py",
   "mimetype": "text/x-python",
   "name": "python",
   "nbconvert_exporter": "python",
   "pygments_lexer": "ipython3",
   "version": "3.6.6rc1"
  }
 },
 "nbformat": 4,
 "nbformat_minor": 2
}
